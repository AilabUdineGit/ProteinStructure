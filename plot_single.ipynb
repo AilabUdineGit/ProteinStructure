{
 "cells": [
  {
   "cell_type": "code",
   "execution_count": 1,
   "id": "4ca1da48-be89-47d2-a9bc-fb2d69a8d472",
   "metadata": {},
   "outputs": [],
   "source": [
    "import torch.utils\n",
    "from torch.autograd import Variable\n",
    "import numpy as np\n",
    "from torch.utils.data import Dataset, ConcatDataset\n",
    "import torch.nn as nn\n",
    "from sklearn.metrics import mean_absolute_error\n",
    "from sklearn.linear_model import LinearRegression\n",
    "from torch.optim import SGD, Adam\n",
    "import torch.optim as optim\n",
    "import matplotlib.pyplot as plt\n",
    "from captum.attr import DeepLift\n",
    "import os\n",
    "from tqdm import tqdm\n",
    "\n",
    "from utils import *"
   ]
  },
  {
   "cell_type": "code",
   "execution_count": 9,
   "id": "f398afe7-e5d7-4d42-a05d-beac110666f2",
   "metadata": {},
   "outputs": [
    {
     "name": "stdout",
     "output_type": "stream",
     "text": [
      "working on GPU: True\n"
     ]
    },
    {
     "name": "stderr",
     "output_type": "stream",
     "text": [
      "/media/HDD/bportelli/env/lib/python3.8/site-packages/torch/nn/modules/rnn.py:60: UserWarning: dropout option adds dropout after all but last recurrent layer, so non-zero dropout expects num_layers greater than 1, but got dropout=0.2 and num_layers=1\n",
      "  warnings.warn(\"dropout option adds dropout after all but last \"\n"
     ]
    }
   ],
   "source": [
    "model_type = \"Linear_Model\"\n",
    "model_name = \"myLinear340_bs_128_lr_1e-3_ep_50\"\n",
    "\n",
    "model_type = \"LSTM_Model\"\n",
    "model_name = \"CORRECT_LSTM\"\n",
    "\n",
    "\n",
    "test_set = CustomDataset(f'{model_type}/one__hot_Ntest_data.txt', f'{model_type}/Ntest_targets.txt')\n",
    "train_set = CustomDataset(f'{model_type}/one__hot_Ntrain_data.txt', f'{model_type}/Ntrain_targets.txt')\n",
    "\n",
    "test_loader =torch.utils.data.DataLoader(\n",
    "    test_set,\n",
    "    batch_size=490_612,#490_612,\n",
    "    shuffle=False,\n",
    "    collate_fn=lambda d: ([x[0] for x in d], [x[1] for x in d]),\n",
    ")\n",
    "\n",
    "torch.backends.cudnn.enabled=False\n",
    "\n",
    "\n",
    "device = torch.device(\"cuda:0\" if torch.cuda.is_available() else \"cpu\")\n",
    "CUDA = torch.cuda.is_available()\n",
    "print(f\"working on GPU: {CUDA}\")\n",
    "\n",
    "MODEL_CLASS = MyRegression if \"Linear\" in model_type else PPS\n",
    "\n",
    "model = MODEL_CLASS(340,3)\n",
    "model.load_state_dict(torch.load(f'{model_type}/{model_name}/checkpoint'))\n",
    "model.to(device)\n",
    "# model.eval()\n",
    "torch.manual_seed(123)\n",
    "np.random.seed(123)\n",
    "\n",
    "X_test, y_test=next(iter(test_loader))\n",
    "X_test = torch.FloatTensor(X_test).to(device)\n",
    "y_test = torch.FloatTensor(y_test)\n",
    "\n",
    "dl = DeepLift(model)"
   ]
  },
  {
   "cell_type": "code",
   "execution_count": 10,
   "id": "83b31d60-debf-4a86-acf4-91c925462b62",
   "metadata": {},
   "outputs": [
    {
     "name": "stderr",
     "output_type": "stream",
     "text": [
      "/media/HDD/bportelli/env/lib/python3.8/site-packages/captum/_utils/gradient.py:57: UserWarning: Input Tensor 0 did not already require gradients, required_grads has been set automatically.\n",
      "  warnings.warn(\n",
      "/media/HDD/bportelli/env/lib/python3.8/site-packages/captum/attr/_core/deep_lift.py:336: UserWarning: Setting forward, backward hooks and attributes on non-linear\n",
      "               activations. The hooks and attributes will be removed\n",
      "            after the attribution is finished\n",
      "  warnings.warn(\n"
     ]
    },
    {
     "data": {
      "image/png": "[encoded data removed]",
      "text/plain": [
       "<Figure size 864x216 with 3 Axes>"
      ]
     },
     "metadata": {
      "needs_background": "light"
     },
     "output_type": "display_data"
    },
    {
     "name": "stderr",
     "output_type": "stream",
     "text": [
      "/media/HDD/bportelli/env/lib/python3.8/site-packages/captum/_utils/gradient.py:57: UserWarning: Input Tensor 0 did not already require gradients, required_grads has been set automatically.\n",
      "  warnings.warn(\n",
      "/media/HDD/bportelli/env/lib/python3.8/site-packages/captum/attr/_core/deep_lift.py:336: UserWarning: Setting forward, backward hooks and attributes on non-linear\n",
      "               activations. The hooks and attributes will be removed\n",
      "            after the attribution is finished\n",
      "  warnings.warn(\n"
     ]
    },
    {
     "data": {
      "image/png": "[encoded data removed]",
      "text/plain": [
       "<Figure size 864x216 with 3 Axes>"
      ]
     },
     "metadata": {
      "needs_background": "light"
     },
     "output_type": "display_data"
    }
   ],
   "source": [
    "PLOT_DIAG(dl, X_test, y_test, absolute=True)\n",
    "plt.savefig(f\"{model_type}.deeplift.avg.pdf\", dpi=300)\n",
    "plt.show()\n",
    "\n",
    "PLOT_DIAG(dl, X_test, y_test, absolute=True, avg=False)\n",
    "plt.savefig(f\"{model_type}.deeplift.all.pdf\", dpi=300)\n",
    "plt.show()"
   ]
  },
  {
   "cell_type": "code",
   "execution_count": 11,
   "id": "2e38a291-3aeb-4973-bcdc-5fe56e28aa88",
   "metadata": {},
   "outputs": [],
   "source": [
    "# from sklearn.metrics import confusion_matrix, ConfusionMatrixDisplay\n",
    "\n",
    "# print(\"TEST\")\n",
    "# acc_test, real_test, pred_test = get_accuracy(model, test_set)\n",
    "# print(round(acc_test*100,2))\n",
    "\n",
    "# M = confusion_matrix(\n",
    "#     y_true=real_test,\n",
    "#     y_pred=pred_test,\n",
    "#     normalize=\"true\",\n",
    "# )\n",
    "# ConfusionMatrixDisplay(\n",
    "#     M,\n",
    "#     display_labels=[\"Helix\", \"Coil\", \"Strand\"],\n",
    "# ).plot(cmap=\"Blues\")\n",
    "# plt.show()"
   ]
  },
  {
   "cell_type": "code",
   "execution_count": 12,
   "id": "740c431b-86b2-4446-aac1-1ebe42d80dc6",
   "metadata": {},
   "outputs": [],
   "source": [
    "# import pandas as pd\n",
    "# pred_summary_test = pd.DataFrame({\n",
    "#     \"real\": real_test,\n",
    "#     \"pred\": pred_test,\n",
    "# })\n",
    "# pred_summary_test.to_pickle(f'{model_type}/{model_name}/pred_summary_test.pickle')\n",
    "# pred_summary_test"
   ]
  },
  {
   "cell_type": "code",
   "execution_count": 13,
   "id": "b93606c7-1232-4e6b-8689-0242f2e67e99",
   "metadata": {},
   "outputs": [],
   "source": [
    "if \"Linear\" in model_type:\n",
    "    LABELS = [\"-\"+str(x) for x in range(8,0,-1)]+[str(0)]+[str(x) for x in range(1,9,1)]\n",
    "    w0,w1,w2 = model.linear.weight.detach().cpu()[0], model.linear.weight.detach().cpu()[1], model.linear.weight.detach().cpu()[2]\n",
    "\n",
    "    def get_sign_color(w0, pos=\"steelblue\", neg=\"steelblue\"):\n",
    "        return [neg if x<0 else pos for x in w0]\n",
    "\n",
    "\n",
    "    fig, axs = plt.subplots(1,3, figsize=(12,3), sharey=True)\n",
    "    for i,ax in enumerate(axs):\n",
    "        ax.yaxis.tick_right()\n",
    "        ax.set_xticks([x for x in range(17*20) if (x)%20==0])\n",
    "        ax.set_xticklabels(LABELS)\n",
    "        # ax.tick_params(axis='x', rotation=90)\n",
    "        if i == 2:\n",
    "            ax.yaxis.set_tick_params(labelright=True, labelleft=False)\n",
    "        else:\n",
    "            for label in ax.get_yticklabels():\n",
    "                label.set_visible(False)\n",
    "    axs[0].bar(range(17*20), w0.abs(), color=get_sign_color(w0), width=.9)\n",
    "    axs[1].bar(range(17*20), w1.abs(), color=get_sign_color(w1), width=.9)\n",
    "    axs[2].bar(range(17*20), w2.abs(), color=get_sign_color(w2), width=.9)\n",
    "    axs[0].set_title(f\"Helix Neuron\")\n",
    "    axs[1].set_title(f\"Coil Neuron\")\n",
    "    axs[2].set_title(f\"Strand Neuron\")\n",
    "\n",
    "    plt.tight_layout()\n",
    "    fig.subplots_adjust(hspace=0.1, wspace=0)\n",
    "    plt.savefig(f\"{model_type}.weights.all.pdf\", dpi=300)\n",
    "    plt.show()\n",
    "\n",
    "    avg_w0 = np.reshape(w0, (17,20)).mean(1)\n",
    "    avg_w1 = np.reshape(w1, (17,20)).mean(1)\n",
    "    avg_w2 = np.reshape(w2, (17,20)).mean(1)\n",
    "\n",
    "    abs_avg_w0 = np.reshape(w0.abs(), (17,20)).mean(1)\n",
    "    abs_avg_w1 = np.reshape(w1.abs(), (17,20)).mean(1)\n",
    "    abs_avg_w2 = np.reshape(w2.abs(), (17,20)).mean(1)\n",
    "\n",
    "    fig, axs = plt.subplots(1,3, figsize=(12,3), sharey=True)\n",
    "    for i,ax in enumerate(axs):\n",
    "        ax.yaxis.tick_right()\n",
    "        ax.set_xticks(range(len(abs_avg_w0)))\n",
    "        ax.set_xticklabels(LABELS)\n",
    "        if i == 2:\n",
    "            ax.yaxis.set_tick_params(labelright=True, labelleft=False)\n",
    "        else:\n",
    "            for label in ax.get_yticklabels():\n",
    "                label.set_visible(False)\n",
    "    axs[0].bar(range(17), abs_avg_w0, color=get_sign_color(avg_w0), width=.9)\n",
    "    axs[1].bar(range(17), abs_avg_w1, color=get_sign_color(avg_w1), width=.9)\n",
    "    axs[2].bar(range(17), abs_avg_w2, color=get_sign_color(avg_w2), width=.9)\n",
    "    axs[0].set_title(f\"Helix Neuron\")\n",
    "    axs[1].set_title(f\"Coil Neuron\")\n",
    "    axs[2].set_title(f\"Strand Neuron\")\n",
    "\n",
    "    plt.tight_layout()\n",
    "    fig.subplots_adjust(hspace=0.1, wspace=0)\n",
    "    plt.savefig(f\"{model_type}.weights.avg.pdf\", dpi=300)\n",
    "    plt.show()"
   ]
  },
  {
   "cell_type": "code",
   "execution_count": 14,
   "id": "e5afecd7-dd1a-4a6b-8a81-0365dd44a535",
   "metadata": {},
   "outputs": [
    {
     "data": {
      "image/png": "[encoded data removed]",
      "text/plain": [
       "<Figure size 432x288 with 2 Axes>"
      ]
     },
     "metadata": {
      "needs_background": "light"
     },
     "output_type": "display_data"
    }
   ],
   "source": [
    "import pandas as pd\n",
    "from sklearn.metrics import confusion_matrix\n",
    "df = pd.read_pickle(f'{model_type}/{model_name}/pred_summary_test.pickle')\n",
    "\n",
    "M=confusion_matrix(df.real.tolist(), df.pred.tolist())\n",
    "M_norm = (M.T/M.sum(1)).T*100\n",
    "heatmap = plt.imshow(M_norm, cmap=\"PuBu\")\n",
    "plt.xlabel(\"Predicted label\")\n",
    "plt.ylabel(\"True label\")\n",
    "plt.xticks([0,1,2], [\"Helix\",\"Coil\",\"Strand\"])\n",
    "plt.yticks([0,1,2], [\"Helix\",\"Coil\",\"Strand\"])\n",
    "for x in range(3):\n",
    "    for y in range(3):\n",
    "        \n",
    "        perc = str(round(M_norm[y,x]/100,4)).ljust(6,'0')[2:]\n",
    "        perc = perc[:2]+\".\"+perc[2:]\n",
    "        \n",
    "        plt.text(\n",
    "            x,y,\n",
    "            f\"{perc}%\\n({M[y,x]})\",\n",
    "            ha=\"center\",\n",
    "            va=\"center\",\n",
    "            c=\"w\" if M_norm[y,x]>50 else \"k\"\n",
    "        )\n",
    "        \n",
    "plt.colorbar(heatmap)\n",
    "plt.savefig(f\"{model_type}.confmat_test.pdf\", dpi=300)\n",
    "plt.show()"
   ]
  },
  {
   "cell_type": "code",
   "execution_count": 15,
   "id": "dc492466-4973-41fd-8849-525b602e0968",
   "metadata": {},
   "outputs": [],
   "source": [
    "# print(\"TRAIN\")\n",
    "# acc_train, real_train, pred_train = get_accuracy(model, train_set)\n",
    "# print(round(acc_train*100,2))\n",
    "\n",
    "# M = confusion_matrix(\n",
    "#     y_true=real_train,\n",
    "#     y_pred=pred_train,\n",
    "#     normalize=\"true\",\n",
    "# )\n",
    "# ConfusionMatrixDisplay(\n",
    "#     M,\n",
    "#     display_labels=[\"Helix\", \"Coil\", \"Strand\"],\n",
    "# ).plot(cmap=\"Blues\")\n",
    "# plt.show()"
   ]
  }
 ],
 "metadata": {
  "kernelspec": {
   "display_name": "bp_base",
   "language": "python",
   "name": "bp_base"
  },
  "language_info": {
   "codemirror_mode": {
    "name": "ipython",
    "version": 3
   },
   "file_extension": ".py",
   "mimetype": "text/x-python",
   "name": "python",
   "nbconvert_exporter": "python",
   "pygments_lexer": "ipython3",
   "version": "3.8.13"
  }
 },
 "nbformat": 4,
 "nbformat_minor": 5
}
