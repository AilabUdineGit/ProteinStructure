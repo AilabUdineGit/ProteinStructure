{
 "cells": [
  {
   "cell_type": "code",
   "execution_count": 1,
   "id": "1587dc0f-f58a-498f-84a0-d89ad9384b8b",
   "metadata": {},
   "outputs": [
    {
     "name": "stderr",
     "output_type": "stream",
     "text": [
      "/media/HDD/bportelli/env/lib/python3.8/site-packages/transformers/models/t5/tokenization_t5_fast.py:156: FutureWarning: This tokenizer was incorrectly instantiated with a model max length of 512 which will be corrected in Transformers v5.\n",
      "For now, this behavior is kept to avoid breaking backwards compatibility when padding/encoding with `truncation is True`.\n",
      "- Be aware that you SHOULD NOT rely on t5-small automatically truncating your input to 512 when padding/encoding.\n",
      "- If you want to encode/pad to sequences longer than 512 you can either instantiate this tokenizer with `model_max_length` or pass `max_length` when encoding/padding.\n",
      "- To avoid this warning, please instantiate this tokenizer with `model_max_length` set to your preferred value.\n",
      "  warnings.warn(\n"
     ]
    }
   ],
   "source": [
    "import pandas as pd\n",
    "import numpy as np\n",
    "from sklearn.metrics import accuracy_score\n",
    "import torch\n",
    "from torch.utils.data import Dataset, DataLoader, TensorDataset\n",
    "from torch import cuda\n",
    "from tqdm import tqdm\n",
    "from transformers import BertConfig\n",
    "from transformers import BertModel\n",
    "import json\n",
    "import matplotlib.pyplot as plt\n",
    "import os\n",
    "import pickle\n",
    "\n",
    "from transformers import AutoTokenizer, T5ForConditionalGeneration\n",
    "\n",
    "PRETRAINED_MODEL_NAME = \"t5-small\"\n",
    "EPOCHS = 10\n",
    "TRAIN_BATCH_SIZE = 256\n",
    "VALID_BATCH_SIZE = 256\n",
    "SEQ_LEN=17\n",
    "\n",
    "model = T5ForConditionalGeneration.from_pretrained(PRETRAINED_MODEL_NAME)\n",
    "tokenizer = AutoTokenizer.from_pretrained(\n",
    "    PRETRAINED_MODEL_NAME,\n",
    "    padding_side=\"left\"\n",
    ")\n",
    "tokenizer_r = AutoTokenizer.from_pretrained(\n",
    "    PRETRAINED_MODEL_NAME,\n",
    "    padding_side=\"right\"\n",
    ")\n",
    "\n",
    "train_data = pd.read_csv(\"new_17resid_train_data.txt\", encoding='unicode_escape', names=['Seq'])\n",
    "train_target = pd.read_csv(\"Ntrain_3states_target.txt\", encoding='unicode_escape', names=['target'])\n",
    "\n",
    "test_data = pd.read_csv(\"new_17resid_test_data.txt\", encoding='unicode_escape', names=['Seq'])\n",
    "test_target = pd.read_csv(\"Ntest_3states_target.txt\", encoding='unicode_escape', names=['target'])\n",
    "\n",
    "df = pd.concat([train_data, train_target], axis=1)\n",
    "df_ = pd.concat([test_data, test_target], axis=1)\n",
    "\n",
    "df[\"Seq\"] = df.Seq.apply(lambda val: \" \".join([x.replace(\"B\", tokenizer.pad_token) for x in val]))\n",
    "df_[\"Seq\"] = df_.Seq.apply(lambda val: \" \".join([x.replace(\"B\", tokenizer.pad_token) for x in val]))\n",
    "\n",
    "device = 'cuda' if cuda.is_available() else 'cpu'"
   ]
  },
  {
   "cell_type": "code",
   "execution_count": 2,
   "id": "d921eb4d-2d10-4c70-b20c-daa7fe9b3731",
   "metadata": {},
   "outputs": [
    {
     "name": "stdout",
     "output_type": "stream",
     "text": [
      "torch.Size([5672821, 4])\n"
     ]
    },
    {
     "name": "stderr",
     "output_type": "stream",
     "text": [
      "28365it [02:08, 220.34it/s]                                                                                             \n"
     ]
    },
    {
     "name": "stdout",
     "output_type": "stream",
     "text": [
      "torch.Size([5672821, 17])\n",
      "torch.Size([490612, 4])\n"
     ]
    },
    {
     "name": "stderr",
     "output_type": "stream",
     "text": [
      "2454it [00:10, 237.62it/s]                                                                                              \n"
     ]
    },
    {
     "name": "stdout",
     "output_type": "stream",
     "text": [
      "torch.Size([490612, 17])\n"
     ]
    }
   ],
   "source": [
    "from torch.utils.data import TensorDataset, DataLoader\n",
    "\n",
    "def batchify(l, batch_size):\n",
    "    i = 0\n",
    "    while i < len(l):\n",
    "        i += batch_size\n",
    "        yield l[i-batch_size:i]\n",
    "\n",
    "def to_tensor_dataset(data, tokenizer, kind):\n",
    "    \n",
    "    input_ids = []\n",
    "    labels = []\n",
    "    \n",
    "    outputs = tokenizer_r([\"Helyx\", \"Strand\", \"Coil\"], padding=\"longest\")\n",
    "    outputs = {i:v for i,v in enumerate(outputs.input_ids)}\n",
    "    \n",
    "    labels = data.target.apply(lambda x: outputs[x])#[outputs[row.target] for _,row in tqdm(data.iterrows(), total=len(data))]\n",
    "    labels = torch.tensor(labels)\n",
    "    \n",
    "    print(labels.shape)\n",
    "        \n",
    "    batch_size = 200\n",
    "    \n",
    "    for sentences in tqdm(batchify(data.Seq, batch_size), total=len(data)//batch_size):\n",
    "        \n",
    "        tok_out = tokenizer(sentences.tolist(), add_special_tokens=False, padding=\"longest\")\n",
    "        tok_out = [\n",
    "            [x for x in seq if (x != 3) and (x != 0)]\n",
    "            for seq in tok_out.input_ids\n",
    "        ]\n",
    "        tok_out = [\n",
    "            seq + [tokenizer.pad_token_id]*(SEQ_LEN-len(seq))\n",
    "            for seq in tok_out\n",
    "        ]\n",
    "        \n",
    "        input_ids += tok_out\n",
    "    \n",
    "    input_ids = torch.tensor(input_ids)\n",
    "    \n",
    "    print(input_ids.shape)\n",
    "    \n",
    "    return TensorDataset(input_ids, labels)\n",
    "\n",
    "import pickle\n",
    "import os\n",
    "\n",
    "if not os.path.exists(\"train_dataset.pkl\"):\n",
    "\n",
    "    train_dataset = to_tensor_dataset(df, tokenizer, \"TRAIN\")\n",
    "    test_dataset = to_tensor_dataset(df_, tokenizer, \"TEST\")\n",
    "    test_dataloader = DataLoader(test_dataset, batch_size=8)\n",
    "\n",
    "    with open(\"train_dataset.pkl\", \"wb\") as f:\n",
    "        pickle.dump(train_dataset, f)\n",
    "    with open(\"test_dataset.pkl\", \"wb\") as f:\n",
    "        pickle.dump(test_dataset, f)"
   ]
  },
  {
   "cell_type": "code",
   "execution_count": 3,
   "id": "27a2c843-a042-458a-9655-b6c01e0d0b2d",
   "metadata": {},
   "outputs": [],
   "source": [
    "with open(\"train_dataset.pkl\", \"rb\") as f:\n",
    "    train_dataset = pickle.load(f)\n",
    "with open(\"test_dataset.pkl\", \"rb\") as f:\n",
    "    test_dataset = pickle.load(f)"
   ]
  },
  {
   "cell_type": "code",
   "execution_count": 4,
   "id": "7ce666c3-bcc0-4c70-8673-14ad186f9098",
   "metadata": {},
   "outputs": [],
   "source": [
    "import transformers\n",
    "\n",
    "training_args = transformers.TrainingArguments(\n",
    "    # ------------------------------------------------------- [epochs and batch size]\n",
    "    num_train_epochs=EPOCHS,\n",
    "    per_device_train_batch_size=TRAIN_BATCH_SIZE,\n",
    "    gradient_accumulation_steps=1,\n",
    "    # ------------------------------------------------------- [hyperparams]\n",
    "    warmup_steps=100, \n",
    "    weight_decay=0.01,\n",
    "    # ------------------------------------------------------- [save and logging]\n",
    "    output_dir=\".\", \n",
    "    overwrite_output_dir = True,\n",
    "    do_eval = False,\n",
    "    logging_strategy=\"epoch\", # activate if interested\n",
    "    save_strategy=\"no\",\n",
    "    save_total_limit = None,\n",
    "    # -------------------------------------------------------\n",
    ")\n",
    "trainer = transformers.Trainer(\n",
    "    model=model, \n",
    "    args=training_args, \n",
    "    train_dataset=train_dataset,\n",
    "    data_collator = lambda data: {\n",
    "        'input_ids': torch.stack([f[0] for f in data]), \n",
    "        # 'attention_mask': torch.stack([f[1] for f in data]), \n",
    "        'labels': torch.stack([f[1] for f in data]),\n",
    "    }\n",
    ")"
   ]
  },
  {
   "cell_type": "code",
   "execution_count": 5,
   "id": "053da395-4251-47e0-a4f5-e3414d81a7ef",
   "metadata": {},
   "outputs": [
    {
     "name": "stderr",
     "output_type": "stream",
     "text": [
      "/media/HDD/bportelli/env/lib/python3.8/site-packages/transformers/optimization.py:306: FutureWarning: This implementation of AdamW is deprecated and will be removed in a future version. Use the PyTorch implementation torch.optim.AdamW instead, or set `no_deprecation_warning=True` to disable this warning\n",
      "  warnings.warn(\n",
      "***** Running training *****\n",
      "  Num examples = 5672821\n",
      "  Num Epochs = 20\n",
      "  Instantaneous batch size per device = 256\n",
      "  Total train batch size (w. parallel, distributed & accumulation) = 256\n",
      "  Gradient Accumulation steps = 1\n",
      "  Total optimization steps = 443200\n"
     ]
    },
    {
     "data": {
      "text/html": [
       "\n",
       "    <div>\n",
       "      \n",
       "      <progress value='2868' max='443200' style='width:300px; height:20px; vertical-align: middle;'></progress>\n",
       "      [  2868/443200 06:22 < 16:18:40, 7.50 it/s, Epoch 0.13/20]\n",
       "    </div>\n",
       "    <table border=\"1\" class=\"dataframe\">\n",
       "  <thead>\n",
       " <tr style=\"text-align: left;\">\n",
       "      <th>Step</th>\n",
       "      <th>Training Loss</th>\n",
       "    </tr>\n",
       "  </thead>\n",
       "  <tbody>\n",
       "  </tbody>\n",
       "</table><p>"
      ],
      "text/plain": [
       "<IPython.core.display.HTML object>"
      ]
     },
     "metadata": {},
     "output_type": "display_data"
    },
    {
     "name": "stderr",
     "output_type": "stream",
     "text": [
      "\n",
      "KeyboardInterrupt\n",
      "\n"
     ]
    }
   ],
   "source": [
    "trainer.train()"
   ]
  },
  {
   "cell_type": "code",
   "execution_count": null,
   "id": "d6c8c9df-b79e-42a9-b26d-f171a8c6eb7c",
   "metadata": {},
   "outputs": [],
   "source": []
  }
 ],
 "metadata": {
  "kernelspec": {
   "display_name": "bp_base",
   "language": "python",
   "name": "bp_base"
  },
  "language_info": {
   "codemirror_mode": {
    "name": "ipython",
    "version": 3
   },
   "file_extension": ".py",
   "mimetype": "text/x-python",
   "name": "python",
   "nbconvert_exporter": "python",
   "pygments_lexer": "ipython3",
   "version": "3.8.13"
  }
 },
 "nbformat": 4,
 "nbformat_minor": 5
}
