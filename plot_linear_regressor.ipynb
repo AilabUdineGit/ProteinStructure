{
 "cells": [
  {
   "cell_type": "code",
   "execution_count": 42,
   "id": "3bd9bc2e-e53e-488d-b6d3-305093c09146",
   "metadata": {},
   "outputs": [],
   "source": [
    "from sklearn import linear_model\n",
    "from tqdm import tqdm"
   ]
  },
  {
   "cell_type": "code",
   "execution_count": 36,
   "id": "5d564880-7192-4c1a-9b5b-95f73b375936",
   "metadata": {},
   "outputs": [],
   "source": [
    "import pandas as pd\n",
    "weights = pd.read_csv(\"Linear_Regressor/coef3.out\", sep=\" \", header=None)\n",
    "weights = weights.drop(columns=[340])"
   ]
  },
  {
   "cell_type": "code",
   "execution_count": 37,
   "id": "8b7da119-bee5-4cbd-b9ba-b804d32b4023",
   "metadata": {},
   "outputs": [
    {
     "data": {
      "text/html": [
       "<div>\n",
       "<style scoped>\n",
       "    .dataframe tbody tr th:only-of-type {\n",
       "        vertical-align: middle;\n",
       "    }\n",
       "\n",
       "    .dataframe tbody tr th {\n",
       "        vertical-align: top;\n",
       "    }\n",
       "\n",
       "    .dataframe thead th {\n",
       "        text-align: right;\n",
       "    }\n",
       "</style>\n",
       "<table border=\"1\" class=\"dataframe\">\n",
       "  <thead>\n",
       "    <tr style=\"text-align: right;\">\n",
       "      <th></th>\n",
       "      <th>0</th>\n",
       "      <th>1</th>\n",
       "      <th>2</th>\n",
       "      <th>3</th>\n",
       "      <th>4</th>\n",
       "      <th>5</th>\n",
       "      <th>6</th>\n",
       "      <th>7</th>\n",
       "      <th>8</th>\n",
       "      <th>9</th>\n",
       "      <th>...</th>\n",
       "      <th>330</th>\n",
       "      <th>331</th>\n",
       "      <th>332</th>\n",
       "      <th>333</th>\n",
       "      <th>334</th>\n",
       "      <th>335</th>\n",
       "      <th>336</th>\n",
       "      <th>337</th>\n",
       "      <th>338</th>\n",
       "      <th>339</th>\n",
       "    </tr>\n",
       "  </thead>\n",
       "  <tbody>\n",
       "    <tr>\n",
       "      <th>0</th>\n",
       "      <td>0.013559</td>\n",
       "      <td>-0.021207</td>\n",
       "      <td>0.015397</td>\n",
       "      <td>0.018863</td>\n",
       "      <td>0.000058</td>\n",
       "      <td>-0.010063</td>\n",
       "      <td>-0.015331</td>\n",
       "      <td>0.004912</td>\n",
       "      <td>-0.018486</td>\n",
       "      <td>0.010064</td>\n",
       "      <td>...</td>\n",
       "      <td>-0.001442</td>\n",
       "      <td>-0.056433</td>\n",
       "      <td>-0.079778</td>\n",
       "      <td>-0.016446</td>\n",
       "      <td>-0.019766</td>\n",
       "      <td>-0.055348</td>\n",
       "      <td>-0.082538</td>\n",
       "      <td>-0.058283</td>\n",
       "      <td>-0.065874</td>\n",
       "      <td>-0.046319</td>\n",
       "    </tr>\n",
       "    <tr>\n",
       "      <th>1</th>\n",
       "      <td>0.023783</td>\n",
       "      <td>0.058381</td>\n",
       "      <td>0.015902</td>\n",
       "      <td>0.016946</td>\n",
       "      <td>0.045779</td>\n",
       "      <td>0.019018</td>\n",
       "      <td>0.050762</td>\n",
       "      <td>0.049077</td>\n",
       "      <td>0.036356</td>\n",
       "      <td>0.034158</td>\n",
       "      <td>...</td>\n",
       "      <td>0.018806</td>\n",
       "      <td>0.040396</td>\n",
       "      <td>0.044434</td>\n",
       "      <td>0.019644</td>\n",
       "      <td>0.024980</td>\n",
       "      <td>0.035712</td>\n",
       "      <td>0.049582</td>\n",
       "      <td>0.059459</td>\n",
       "      <td>0.060113</td>\n",
       "      <td>0.047411</td>\n",
       "    </tr>\n",
       "    <tr>\n",
       "      <th>2</th>\n",
       "      <td>-0.037343</td>\n",
       "      <td>-0.037174</td>\n",
       "      <td>-0.031299</td>\n",
       "      <td>-0.035809</td>\n",
       "      <td>-0.045837</td>\n",
       "      <td>-0.008956</td>\n",
       "      <td>-0.035430</td>\n",
       "      <td>-0.053988</td>\n",
       "      <td>-0.017870</td>\n",
       "      <td>-0.044222</td>\n",
       "      <td>...</td>\n",
       "      <td>-0.017364</td>\n",
       "      <td>0.016037</td>\n",
       "      <td>0.035344</td>\n",
       "      <td>-0.003197</td>\n",
       "      <td>-0.005214</td>\n",
       "      <td>0.019636</td>\n",
       "      <td>0.032956</td>\n",
       "      <td>-0.001176</td>\n",
       "      <td>0.005761</td>\n",
       "      <td>-0.001092</td>\n",
       "    </tr>\n",
       "  </tbody>\n",
       "</table>\n",
       "<p>3 rows × 340 columns</p>\n",
       "</div>"
      ],
      "text/plain": [
       "        0         1         2         3         4         5         6    \\\n",
       "0  0.013559 -0.021207  0.015397  0.018863  0.000058 -0.010063 -0.015331   \n",
       "1  0.023783  0.058381  0.015902  0.016946  0.045779  0.019018  0.050762   \n",
       "2 -0.037343 -0.037174 -0.031299 -0.035809 -0.045837 -0.008956 -0.035430   \n",
       "\n",
       "        7         8         9    ...       330       331       332       333  \\\n",
       "0  0.004912 -0.018486  0.010064  ... -0.001442 -0.056433 -0.079778 -0.016446   \n",
       "1  0.049077  0.036356  0.034158  ...  0.018806  0.040396  0.044434  0.019644   \n",
       "2 -0.053988 -0.017870 -0.044222  ... -0.017364  0.016037  0.035344 -0.003197   \n",
       "\n",
       "        334       335       336       337       338       339  \n",
       "0 -0.019766 -0.055348 -0.082538 -0.058283 -0.065874 -0.046319  \n",
       "1  0.024980  0.035712  0.049582  0.059459  0.060113  0.047411  \n",
       "2 -0.005214  0.019636  0.032956 -0.001176  0.005761 -0.001092  \n",
       "\n",
       "[3 rows x 340 columns]"
      ]
     },
     "execution_count": 37,
     "metadata": {},
     "output_type": "execute_result"
    }
   ],
   "source": [
    "weights"
   ]
  },
  {
   "cell_type": "code",
   "execution_count": 38,
   "id": "7fbecb73-73aa-430e-8d5b-bcfcfede226e",
   "metadata": {},
   "outputs": [
    {
     "name": "stdout",
     "output_type": "stream",
     "text": [
      "[[0, 1, 0], [0, 1, 0], [0, 1, 0], [0, 1, 0], [1, 0, 0], [1, 0, 0], [1, 0, 0], [1, 0, 0], [1, 0, 0], [1, 0, 0]]\n"
     ]
    }
   ],
   "source": [
    "import pandas as pd\n",
    "from utils import *\n",
    "\n",
    "test_set = CustomDataset(f'Linear_Model/one__hot_Ntest_data.txt', f'Linear_Model/Ntest_targets.txt')\n",
    "X = [test_set[i][0] for i in range(5,15)]\n",
    "y = [test_set[i][1] for i in range(5,15)]\n",
    "# print(X)\n",
    "print(y)"
   ]
  },
  {
   "cell_type": "code",
   "execution_count": 39,
   "id": "7f99ae50-c1f5-4966-ac90-a72f6a035769",
   "metadata": {},
   "outputs": [
    {
     "name": "stdout",
     "output_type": "stream",
     "text": [
      "[[2.22044605e-16 1.00000000e+00 0.00000000e+00]]\n",
      "[[-8.8817842e-16  1.0000000e+00  0.0000000e+00]]\n",
      "[[-4.4408921e-16  1.0000000e+00  0.0000000e+00]]\n"
     ]
    }
   ],
   "source": [
    "reg = linear_model.LinearRegression()\n",
    "reg.fit(X, y)\n",
    "print(reg.predict([X[0]]))\n",
    "print(reg.predict([X[1]]))\n",
    "print(reg.predict([X[2]]))"
   ]
  },
  {
   "cell_type": "code",
   "execution_count": 40,
   "id": "cbc6108e-55d2-4899-bde8-a8b19ddff418",
   "metadata": {},
   "outputs": [
    {
     "name": "stdout",
     "output_type": "stream",
     "text": [
      "[[ 0.88728741  1.24620559 -0.133495  ]]\n",
      "[[ 0.95676241  1.08375159 -0.040513  ]]\n",
      "[[1.00681141 0.92255859 0.070633  ]]\n"
     ]
    }
   ],
   "source": [
    "reg.coef_ = weights.values\n",
    "print(reg.predict([X[0]]))\n",
    "print(reg.predict([X[1]]))\n",
    "print(reg.predict([X[2]]))"
   ]
  },
  {
   "cell_type": "code",
   "execution_count": 51,
   "id": "656717c7-9867-41ec-9fc2-1cea9bca70c9",
   "metadata": {},
   "outputs": [
    {
     "name": "stderr",
     "output_type": "stream",
     "text": [
      "100%|█████████████████████████████████████████████████████████████████████████████████████████████████████████████████████████████████████████████████████████████| 490612/490612 [00:49<00:00, 9880.67it/s]\n"
     ]
    }
   ],
   "source": [
    "real_y = []\n",
    "pred_y = []\n",
    "\n",
    "for X,y in tqdm(test_set):\n",
    "    \n",
    "    p = reg.predict([X])\n",
    "    real_y.append(y.index(1))\n",
    "    pred_y.append(p.argmax())"
   ]
  },
  {
   "cell_type": "code",
   "execution_count": 52,
   "id": "14379cda-c375-44c0-9d56-e708f1083a01",
   "metadata": {},
   "outputs": [
    {
     "data": {
      "text/html": [
       "<div>\n",
       "<style scoped>\n",
       "    .dataframe tbody tr th:only-of-type {\n",
       "        vertical-align: middle;\n",
       "    }\n",
       "\n",
       "    .dataframe tbody tr th {\n",
       "        vertical-align: top;\n",
       "    }\n",
       "\n",
       "    .dataframe thead th {\n",
       "        text-align: right;\n",
       "    }\n",
       "</style>\n",
       "<table border=\"1\" class=\"dataframe\">\n",
       "  <thead>\n",
       "    <tr style=\"text-align: right;\">\n",
       "      <th></th>\n",
       "      <th>real</th>\n",
       "      <th>pred</th>\n",
       "    </tr>\n",
       "  </thead>\n",
       "  <tbody>\n",
       "    <tr>\n",
       "      <th>0</th>\n",
       "      <td>1</td>\n",
       "      <td>1</td>\n",
       "    </tr>\n",
       "    <tr>\n",
       "      <th>1</th>\n",
       "      <td>1</td>\n",
       "      <td>1</td>\n",
       "    </tr>\n",
       "    <tr>\n",
       "      <th>2</th>\n",
       "      <td>1</td>\n",
       "      <td>1</td>\n",
       "    </tr>\n",
       "    <tr>\n",
       "      <th>3</th>\n",
       "      <td>1</td>\n",
       "      <td>1</td>\n",
       "    </tr>\n",
       "    <tr>\n",
       "      <th>4</th>\n",
       "      <td>1</td>\n",
       "      <td>1</td>\n",
       "    </tr>\n",
       "    <tr>\n",
       "      <th>...</th>\n",
       "      <td>...</td>\n",
       "      <td>...</td>\n",
       "    </tr>\n",
       "    <tr>\n",
       "      <th>490607</th>\n",
       "      <td>1</td>\n",
       "      <td>0</td>\n",
       "    </tr>\n",
       "    <tr>\n",
       "      <th>490608</th>\n",
       "      <td>1</td>\n",
       "      <td>1</td>\n",
       "    </tr>\n",
       "    <tr>\n",
       "      <th>490609</th>\n",
       "      <td>1</td>\n",
       "      <td>1</td>\n",
       "    </tr>\n",
       "    <tr>\n",
       "      <th>490610</th>\n",
       "      <td>1</td>\n",
       "      <td>1</td>\n",
       "    </tr>\n",
       "    <tr>\n",
       "      <th>490611</th>\n",
       "      <td>1</td>\n",
       "      <td>1</td>\n",
       "    </tr>\n",
       "  </tbody>\n",
       "</table>\n",
       "<p>490612 rows × 2 columns</p>\n",
       "</div>"
      ],
      "text/plain": [
       "        real  pred\n",
       "0          1     1\n",
       "1          1     1\n",
       "2          1     1\n",
       "3          1     1\n",
       "4          1     1\n",
       "...      ...   ...\n",
       "490607     1     0\n",
       "490608     1     1\n",
       "490609     1     1\n",
       "490610     1     1\n",
       "490611     1     1\n",
       "\n",
       "[490612 rows x 2 columns]"
      ]
     },
     "execution_count": 52,
     "metadata": {},
     "output_type": "execute_result"
    }
   ],
   "source": [
    "df = pd.DataFrame({\n",
    "    \"real\": real_y,\n",
    "    \"pred\": pred_y,\n",
    "})\n",
    "df.to_pickle(\"Linear_Regressor/pred_summary_test.pickle\")\n",
    "df"
   ]
  },
  {
   "cell_type": "code",
   "execution_count": 53,
   "id": "b1981617-fd25-4c09-9d5c-86beeaa6d627",
   "metadata": {},
   "outputs": [
    {
     "data": {
      "image/png": "[encoded data removed]",
      "text/plain": [
       "<Figure size 432x288 with 2 Axes>"
      ]
     },
     "metadata": {
      "needs_background": "light"
     },
     "output_type": "display_data"
    }
   ],
   "source": [
    "import pandas as pd\n",
    "from sklearn.metrics import confusion_matrix\n",
    "df = pd.read_pickle(\"Linear_Regressor/pred_summary_test.pickle\")\n",
    "\n",
    "M=confusion_matrix(df.real.tolist(), df.pred.tolist())\n",
    "M_norm = (M.T/M.sum(1)).T*100\n",
    "heatmap = plt.imshow(M_norm, cmap=\"PuBu\")\n",
    "plt.xlabel(\"Predicted label\")\n",
    "plt.ylabel(\"True label\")\n",
    "plt.xticks([0,1,2], [\"Helix\",\"Coil\",\"Strand\"])\n",
    "plt.yticks([0,1,2], [\"Helix\",\"Coil\",\"Strand\"])\n",
    "for x in range(3):\n",
    "    for y in range(3):\n",
    "        \n",
    "        perc = str(round(M_norm[y,x]/100,4)).ljust(6,'0')[2:]\n",
    "        perc = perc[:2]+\".\"+perc[2:]\n",
    "        \n",
    "        plt.text(\n",
    "            x,y,\n",
    "            f\"{perc}%\\n({M[y,x]})\",\n",
    "            ha=\"center\",\n",
    "            va=\"center\",\n",
    "            c=\"w\" if M_norm[y,x]>50 else \"k\"\n",
    "        )\n",
    "        \n",
    "plt.colorbar(heatmap)\n",
    "plt.savefig(f\"plots/LinReg.confmat_test.pdf\", dpi=300)\n",
    "plt.show()"
   ]
  },
  {
   "cell_type": "code",
   "execution_count": 59,
   "id": "7f114ae0-32b2-4e50-9f02-f47f16420bbb",
   "metadata": {},
   "outputs": [
    {
     "data": {
      "text/plain": [
       "0.5329608733581731"
      ]
     },
     "execution_count": 59,
     "metadata": {},
     "output_type": "execute_result"
    }
   ],
   "source": [
    "(df.real == df.pred).sum() / len(df)"
   ]
  },
  {
   "cell_type": "code",
   "execution_count": 68,
   "id": "5ad751f2-bd46-4299-a7ef-eb7ab2ac2e65",
   "metadata": {},
   "outputs": [
    {
     "name": "stderr",
     "output_type": "stream",
     "text": [
      "100%|████████████████████████████████████████████████████████████████████████████████████████████████████████████████████████████████████████████████████████████| 490612/490612 [00:31<00:00, 15373.52it/s]\n"
     ]
    }
   ],
   "source": [
    "real_y = []\n",
    "pred_y = []\n",
    "\n",
    "for X,y in tqdm(test_set):\n",
    "    \n",
    "    p = weights.values.dot(np.array(X))\n",
    "    real_y.append(y.index(1))\n",
    "    pred_y.append(p.argmax())"
   ]
  },
  {
   "cell_type": "code",
   "execution_count": 69,
   "id": "14892c51-868c-4db1-ad62-309264cfa44b",
   "metadata": {},
   "outputs": [
    {
     "data": {
      "text/html": [
       "<div>\n",
       "<style scoped>\n",
       "    .dataframe tbody tr th:only-of-type {\n",
       "        vertical-align: middle;\n",
       "    }\n",
       "\n",
       "    .dataframe tbody tr th {\n",
       "        vertical-align: top;\n",
       "    }\n",
       "\n",
       "    .dataframe thead th {\n",
       "        text-align: right;\n",
       "    }\n",
       "</style>\n",
       "<table border=\"1\" class=\"dataframe\">\n",
       "  <thead>\n",
       "    <tr style=\"text-align: right;\">\n",
       "      <th></th>\n",
       "      <th>real</th>\n",
       "      <th>pred</th>\n",
       "    </tr>\n",
       "  </thead>\n",
       "  <tbody>\n",
       "    <tr>\n",
       "      <th>0</th>\n",
       "      <td>1</td>\n",
       "      <td>1</td>\n",
       "    </tr>\n",
       "    <tr>\n",
       "      <th>1</th>\n",
       "      <td>1</td>\n",
       "      <td>1</td>\n",
       "    </tr>\n",
       "    <tr>\n",
       "      <th>2</th>\n",
       "      <td>1</td>\n",
       "      <td>1</td>\n",
       "    </tr>\n",
       "    <tr>\n",
       "      <th>3</th>\n",
       "      <td>1</td>\n",
       "      <td>1</td>\n",
       "    </tr>\n",
       "    <tr>\n",
       "      <th>4</th>\n",
       "      <td>1</td>\n",
       "      <td>1</td>\n",
       "    </tr>\n",
       "    <tr>\n",
       "      <th>...</th>\n",
       "      <td>...</td>\n",
       "      <td>...</td>\n",
       "    </tr>\n",
       "    <tr>\n",
       "      <th>490607</th>\n",
       "      <td>1</td>\n",
       "      <td>1</td>\n",
       "    </tr>\n",
       "    <tr>\n",
       "      <th>490608</th>\n",
       "      <td>1</td>\n",
       "      <td>1</td>\n",
       "    </tr>\n",
       "    <tr>\n",
       "      <th>490609</th>\n",
       "      <td>1</td>\n",
       "      <td>1</td>\n",
       "    </tr>\n",
       "    <tr>\n",
       "      <th>490610</th>\n",
       "      <td>1</td>\n",
       "      <td>1</td>\n",
       "    </tr>\n",
       "    <tr>\n",
       "      <th>490611</th>\n",
       "      <td>1</td>\n",
       "      <td>1</td>\n",
       "    </tr>\n",
       "  </tbody>\n",
       "</table>\n",
       "<p>490612 rows × 2 columns</p>\n",
       "</div>"
      ],
      "text/plain": [
       "        real  pred\n",
       "0          1     1\n",
       "1          1     1\n",
       "2          1     1\n",
       "3          1     1\n",
       "4          1     1\n",
       "...      ...   ...\n",
       "490607     1     1\n",
       "490608     1     1\n",
       "490609     1     1\n",
       "490610     1     1\n",
       "490611     1     1\n",
       "\n",
       "[490612 rows x 2 columns]"
      ]
     },
     "execution_count": 69,
     "metadata": {},
     "output_type": "execute_result"
    }
   ],
   "source": [
    "df = pd.DataFrame({\n",
    "    \"real\": real_y,\n",
    "    \"pred\": pred_y,\n",
    "})\n",
    "df.to_pickle(\"Linear_Regressor/dot_pred_summary_test.pickle\")\n",
    "df"
   ]
  },
  {
   "cell_type": "code",
   "execution_count": 70,
   "id": "31cfe65d-a381-462d-ab29-be68726bccc9",
   "metadata": {},
   "outputs": [
    {
     "data": {
      "image/png": "[encoded data removed]",
      "text/plain": [
       "<Figure size 432x288 with 2 Axes>"
      ]
     },
     "metadata": {
      "needs_background": "light"
     },
     "output_type": "display_data"
    }
   ],
   "source": [
    "import pandas as pd\n",
    "from sklearn.metrics import confusion_matrix\n",
    "df = pd.read_pickle(\"Linear_Regressor/dot_pred_summary_test.pickle\")\n",
    "\n",
    "M=confusion_matrix(df.real.tolist(), df.pred.tolist())\n",
    "M_norm = (M.T/M.sum(1)).T*100\n",
    "heatmap = plt.imshow(M_norm, cmap=\"PuBu\")\n",
    "plt.xlabel(\"Predicted label\")\n",
    "plt.ylabel(\"True label\")\n",
    "plt.xticks([0,1,2], [\"Helix\",\"Coil\",\"Strand\"])\n",
    "plt.yticks([0,1,2], [\"Helix\",\"Coil\",\"Strand\"])\n",
    "for x in range(3):\n",
    "    for y in range(3):\n",
    "        \n",
    "        perc = str(round(M_norm[y,x]/100,4)).ljust(6,'0')[2:]\n",
    "        perc = perc[:2]+\".\"+perc[2:]\n",
    "        \n",
    "        plt.text(\n",
    "            x,y,\n",
    "            f\"{perc}%\\n({M[y,x]})\",\n",
    "            ha=\"center\",\n",
    "            va=\"center\",\n",
    "            c=\"w\" if M_norm[y,x]>50 else \"k\"\n",
    "        )\n",
    "        \n",
    "plt.colorbar(heatmap)\n",
    "plt.savefig(f\"plots/LinReg_dot.confmat_test.pdf\", dpi=300)\n",
    "plt.show()"
   ]
  },
  {
   "cell_type": "code",
   "execution_count": 71,
   "id": "4d02d2db-a7df-4f9c-8ff6-ca59273277c3",
   "metadata": {},
   "outputs": [
    {
     "data": {
      "text/plain": [
       "0.6208612916112937"
      ]
     },
     "execution_count": 71,
     "metadata": {},
     "output_type": "execute_result"
    }
   ],
   "source": [
    "(df.real == df.pred).sum() / len(df)"
   ]
  },
  {
   "cell_type": "code",
   "execution_count": 72,
   "id": "1ae7f494-b176-4572-a3de-a1d82ecd85ff",
   "metadata": {},
   "outputs": [
    {
     "name": "stderr",
     "output_type": "stream",
     "text": [
      "100%|██████████████████████████████████████████████████████████████████████████████████████████████████████████████████████████████████████████████████████████| 5672821/5672821 [06:06<00:00, 15467.74it/s]\n"
     ]
    },
    {
     "data": {
      "text/html": [
       "<div>\n",
       "<style scoped>\n",
       "    .dataframe tbody tr th:only-of-type {\n",
       "        vertical-align: middle;\n",
       "    }\n",
       "\n",
       "    .dataframe tbody tr th {\n",
       "        vertical-align: top;\n",
       "    }\n",
       "\n",
       "    .dataframe thead th {\n",
       "        text-align: right;\n",
       "    }\n",
       "</style>\n",
       "<table border=\"1\" class=\"dataframe\">\n",
       "  <thead>\n",
       "    <tr style=\"text-align: right;\">\n",
       "      <th></th>\n",
       "      <th>real</th>\n",
       "      <th>pred</th>\n",
       "    </tr>\n",
       "  </thead>\n",
       "  <tbody>\n",
       "    <tr>\n",
       "      <th>0</th>\n",
       "      <td>1</td>\n",
       "      <td>1</td>\n",
       "    </tr>\n",
       "    <tr>\n",
       "      <th>1</th>\n",
       "      <td>0</td>\n",
       "      <td>0</td>\n",
       "    </tr>\n",
       "    <tr>\n",
       "      <th>2</th>\n",
       "      <td>0</td>\n",
       "      <td>0</td>\n",
       "    </tr>\n",
       "    <tr>\n",
       "      <th>3</th>\n",
       "      <td>0</td>\n",
       "      <td>0</td>\n",
       "    </tr>\n",
       "    <tr>\n",
       "      <th>4</th>\n",
       "      <td>0</td>\n",
       "      <td>0</td>\n",
       "    </tr>\n",
       "    <tr>\n",
       "      <th>...</th>\n",
       "      <td>...</td>\n",
       "      <td>...</td>\n",
       "    </tr>\n",
       "    <tr>\n",
       "      <th>5672816</th>\n",
       "      <td>0</td>\n",
       "      <td>1</td>\n",
       "    </tr>\n",
       "    <tr>\n",
       "      <th>5672817</th>\n",
       "      <td>0</td>\n",
       "      <td>1</td>\n",
       "    </tr>\n",
       "    <tr>\n",
       "      <th>5672818</th>\n",
       "      <td>1</td>\n",
       "      <td>1</td>\n",
       "    </tr>\n",
       "    <tr>\n",
       "      <th>5672819</th>\n",
       "      <td>1</td>\n",
       "      <td>1</td>\n",
       "    </tr>\n",
       "    <tr>\n",
       "      <th>5672820</th>\n",
       "      <td>1</td>\n",
       "      <td>1</td>\n",
       "    </tr>\n",
       "  </tbody>\n",
       "</table>\n",
       "<p>5672821 rows × 2 columns</p>\n",
       "</div>"
      ],
      "text/plain": [
       "         real  pred\n",
       "0           1     1\n",
       "1           0     0\n",
       "2           0     0\n",
       "3           0     0\n",
       "4           0     0\n",
       "...       ...   ...\n",
       "5672816     0     1\n",
       "5672817     0     1\n",
       "5672818     1     1\n",
       "5672819     1     1\n",
       "5672820     1     1\n",
       "\n",
       "[5672821 rows x 2 columns]"
      ]
     },
     "metadata": {},
     "output_type": "display_data"
    },
    {
     "data": {
      "image/png": "[encoded data removed]",
      "text/plain": [
       "<Figure size 432x288 with 2 Axes>"
      ]
     },
     "metadata": {
      "needs_background": "light"
     },
     "output_type": "display_data"
    },
    {
     "data": {
      "text/plain": [
       "0.6261776988909046"
      ]
     },
     "execution_count": 72,
     "metadata": {},
     "output_type": "execute_result"
    }
   ],
   "source": [
    "train_set = CustomDataset(f'Linear_Model/one__hot_Ntrain_data.txt', f'Linear_Model/Ntrain_targets.txt')\n",
    "real_y = []\n",
    "pred_y = []\n",
    "\n",
    "for X,y in tqdm(train_set):\n",
    "    \n",
    "    p = weights.values.dot(np.array(X))\n",
    "    real_y.append(y.index(1))\n",
    "    pred_y.append(p.argmax())\n",
    "    \n",
    "df = pd.DataFrame({\n",
    "    \"real\": real_y,\n",
    "    \"pred\": pred_y,\n",
    "})\n",
    "df.to_pickle(\"Linear_Regressor/dot_pred_summary_train.pickle\")\n",
    "display(df)\n",
    "\n",
    "import pandas as pd\n",
    "from sklearn.metrics import confusion_matrix\n",
    "df = pd.read_pickle(\"Linear_Regressor/dot_pred_summary_train.pickle\")\n",
    "\n",
    "M=confusion_matrix(df.real.tolist(), df.pred.tolist())\n",
    "M_norm = (M.T/M.sum(1)).T*100\n",
    "heatmap = plt.imshow(M_norm, cmap=\"PuBu\")\n",
    "plt.xlabel(\"Predicted label\")\n",
    "plt.ylabel(\"True label\")\n",
    "plt.xticks([0,1,2], [\"Helix\",\"Coil\",\"Strand\"])\n",
    "plt.yticks([0,1,2], [\"Helix\",\"Coil\",\"Strand\"])\n",
    "for x in range(3):\n",
    "    for y in range(3):\n",
    "        \n",
    "        perc = str(round(M_norm[y,x]/100,4)).ljust(6,'0')[2:]\n",
    "        perc = perc[:2]+\".\"+perc[2:]\n",
    "        \n",
    "        plt.text(\n",
    "            x,y,\n",
    "            f\"{perc}%\\n({M[y,x]})\",\n",
    "            ha=\"center\",\n",
    "            va=\"center\",\n",
    "            c=\"w\" if M_norm[y,x]>50 else \"k\"\n",
    "        )\n",
    "        \n",
    "plt.colorbar(heatmap)\n",
    "plt.savefig(f\"plots/LinReg_dot.confmat_train.pdf\", dpi=300)\n",
    "plt.show()\n",
    "\n",
    "(df.real == df.pred).sum() / len(df)"
   ]
  },
  {
   "cell_type": "code",
   "execution_count": null,
   "id": "8949a4d0-53dd-4ba7-8bbe-9d403b63ac84",
   "metadata": {},
   "outputs": [],
   "source": [
    "assert False"
   ]
  },
  {
   "cell_type": "code",
   "execution_count": 73,
   "id": "3bd9b864-f7e5-44d3-951c-85f90056185a",
   "metadata": {},
   "outputs": [],
   "source": [
    "import pandas as pd"
   ]
  },
  {
   "cell_type": "code",
   "execution_count": 77,
   "id": "f3fb4d97-ac4d-43b1-a781-99ebcde01767",
   "metadata": {},
   "outputs": [
    {
     "data": {
      "text/html": [
       "<div>\n",
       "<style scoped>\n",
       "    .dataframe tbody tr th:only-of-type {\n",
       "        vertical-align: middle;\n",
       "    }\n",
       "\n",
       "    .dataframe tbody tr th {\n",
       "        vertical-align: top;\n",
       "    }\n",
       "\n",
       "    .dataframe thead th {\n",
       "        text-align: right;\n",
       "    }\n",
       "</style>\n",
       "<table border=\"1\" class=\"dataframe\">\n",
       "  <thead>\n",
       "    <tr style=\"text-align: right;\">\n",
       "      <th></th>\n",
       "      <th>1</th>\n",
       "      <th>2</th>\n",
       "      <th>3</th>\n",
       "      <th>4</th>\n",
       "      <th>5</th>\n",
       "      <th>6</th>\n",
       "      <th>7</th>\n",
       "      <th>8</th>\n",
       "      <th>9</th>\n",
       "      <th>10</th>\n",
       "      <th>11</th>\n",
       "      <th>12</th>\n",
       "      <th>13</th>\n",
       "      <th>14</th>\n",
       "      <th>15</th>\n",
       "      <th>16</th>\n",
       "      <th>17</th>\n",
       "    </tr>\n",
       "  </thead>\n",
       "  <tbody>\n",
       "    <tr>\n",
       "      <th>i</th>\n",
       "      <td>0.003088</td>\n",
       "      <td>0.004612</td>\n",
       "      <td>0.006659</td>\n",
       "      <td>0.009051</td>\n",
       "      <td>0.009906</td>\n",
       "      <td>0.01169</td>\n",
       "      <td>0.018587</td>\n",
       "      <td>0.032821</td>\n",
       "      <td>0.053692</td>\n",
       "      <td>0.051268</td>\n",
       "      <td>0.027761</td>\n",
       "      <td>0.019363</td>\n",
       "      <td>0.01451</td>\n",
       "      <td>0.010934</td>\n",
       "      <td>0.007526</td>\n",
       "      <td>0.005327</td>\n",
       "      <td>0.003687</td>\n",
       "    </tr>\n",
       "  </tbody>\n",
       "</table>\n",
       "</div>"
      ],
      "text/plain": [
       "0        1         2         3         4         5        6         7   \\\n",
       "i  0.003088  0.004612  0.006659  0.009051  0.009906  0.01169  0.018587   \n",
       "\n",
       "0        8         9         10        11        12       13        14  \\\n",
       "i  0.032821  0.053692  0.051268  0.027761  0.019363  0.01451  0.010934   \n",
       "\n",
       "0        15        16        17  \n",
       "i  0.007526  0.005327  0.003687  "
      ]
     },
     "execution_count": 77,
     "metadata": {},
     "output_type": "execute_result"
    }
   ],
   "source": [
    "mutual_info = pd.read_csv(\"Mutual_Information/mutual_information.txt\", header=None, sep=\" \", index_col=0)\n",
    "mutual_info.columns = [\"i\"]\n",
    "mutual_info.T"
   ]
  },
  {
   "cell_type": "code",
   "execution_count": 78,
   "id": "a2340470-6e80-4af8-8347-2a271ba4d352",
   "metadata": {},
   "outputs": [
    {
     "data": {
      "image/png": "[encoded data removed]",
      "text/plain": [
       "<Figure size 324x216 with 1 Axes>"
      ]
     },
     "metadata": {
      "needs_background": "light"
     },
     "output_type": "display_data"
    }
   ],
   "source": [
    "import matplotlib.pyplot as plt\n",
    "\n",
    "LABELS = [\"-\"+str(x) for x in range(8,0,-1)]+[str(0)]+[str(x) for x in range(1,9,1)]\n",
    "\n",
    "fig, ax = plt.subplots(1,1, figsize=(4.5,3), sharey=True, sharex=True)\n",
    "# ax = axs[2]\n",
    "ax.yaxis.tick_right()\n",
    "ax.set_xticks(list(range(17)))\n",
    "ax.set_xticklabels(LABELS)\n",
    "ax.yaxis.set_tick_params(labelright=True, labelleft=False)\n",
    "\n",
    "ax.bar(range(17), mutual_info.i, width=.9, color=\"steelblue\")\n",
    "ax.set_title(\"Mutual information\")\n",
    "\n",
    "plt.tight_layout()\n",
    "fig.subplots_adjust(hspace=0.1, wspace=0)\n",
    "plt.savefig(f\"plots/mutual_information.pdf\", dpi=300)\n",
    "plt.show()"
   ]
  },
  {
   "cell_type": "code",
   "execution_count": 79,
   "id": "f8ce86ed-df20-4ad7-9c20-c48c0ed6b4c8",
   "metadata": {},
   "outputs": [
    {
     "data": {
      "text/plain": [
       "(340,)"
      ]
     },
     "execution_count": 79,
     "metadata": {},
     "output_type": "execute_result"
    }
   ],
   "source": [
    "weights = pd.read_csv(\"Linear_Regressor/coef3.out\", sep=\" \", header=None)\n",
    "weights = weights.drop(columns=[340])\n",
    "w0,w1,w2 = weights.values[0], weights.values[1], weights.values[2]\n",
    "\n",
    "weights.values[0].shape"
   ]
  },
  {
   "cell_type": "code",
   "execution_count": 80,
   "id": "e0ff6491-b285-47ba-b780-7e19c7d4b2d0",
   "metadata": {},
   "outputs": [
    {
     "data": {
      "image/png": "[encoded data removed]",
      "text/plain": [
       "<Figure size 864x216 with 3 Axes>"
      ]
     },
     "metadata": {
      "needs_background": "light"
     },
     "output_type": "display_data"
    },
    {
     "data": {
      "image/png": "[encoded data removed]",
      "text/plain": [
       "<Figure size 864x216 with 3 Axes>"
      ]
     },
     "metadata": {
      "needs_background": "light"
     },
     "output_type": "display_data"
    }
   ],
   "source": [
    "import numpy as np\n",
    "\n",
    "LABELS = [\"-\"+str(x) for x in range(8,0,-1)]+[str(0)]+[str(x) for x in range(1,9,1)]\n",
    "w0,w1,w2 = weights.values[0], weights.values[1], weights.values[2]\n",
    "\n",
    "def get_sign_color(w0, pos=\"steelblue\", neg=\"steelblue\"):\n",
    "    return [neg if x<0 else pos for x in w0]\n",
    "\n",
    "\n",
    "fig, axs = plt.subplots(1,3, figsize=(12,3), sharey=True)\n",
    "for i,ax in enumerate(axs):\n",
    "    ax.yaxis.tick_right()\n",
    "    ax.set_xticks([x for x in range(17*20) if (x)%20==0])\n",
    "    ax.set_xticklabels(LABELS)\n",
    "    # ax.tick_params(axis='x', rotation=90)\n",
    "    if i == 2:\n",
    "        ax.yaxis.set_tick_params(labelright=True, labelleft=False)\n",
    "    else:\n",
    "        for label in ax.get_yticklabels():\n",
    "            label.set_visible(False)\n",
    "axs[0].bar(range(17*20), abs(w0), color=get_sign_color(w0), width=.9)\n",
    "axs[1].bar(range(17*20), abs(w1), color=get_sign_color(w1), width=.9)\n",
    "axs[2].bar(range(17*20), abs(w2), color=get_sign_color(w2), width=.9)\n",
    "axs[0].set_title(f\"Helix Neuron\")\n",
    "axs[1].set_title(f\"Coil Neuron\")\n",
    "axs[2].set_title(f\"Strand Neuron\")\n",
    "\n",
    "plt.tight_layout()\n",
    "fig.subplots_adjust(hspace=0.1, wspace=0)\n",
    "# plt.savefig(f\"LinReg.weights.all.pdf\", dpi=300)\n",
    "plt.show()\n",
    "\n",
    "avg_w0 = np.reshape(w0, (17,20)).mean(1)\n",
    "avg_w1 = np.reshape(w1, (17,20)).mean(1)\n",
    "avg_w2 = np.reshape(w2, (17,20)).mean(1)\n",
    "\n",
    "abs_avg_w0 = np.reshape(abs(w0), (17,20)).mean(1)\n",
    "abs_avg_w1 = np.reshape(abs(w1), (17,20)).mean(1)\n",
    "abs_avg_w2 = np.reshape(abs(w2), (17,20)).mean(1)\n",
    "\n",
    "fig, axs = plt.subplots(1,3, figsize=(12,3), sharey=True)\n",
    "for i,ax in enumerate(axs):\n",
    "    ax.yaxis.tick_right()\n",
    "    ax.set_xticks(range(len(abs_avg_w0)))\n",
    "    ax.set_xticklabels(LABELS)\n",
    "    if i == 2:\n",
    "        ax.yaxis.set_tick_params(labelright=True, labelleft=False)\n",
    "    else:\n",
    "        for label in ax.get_yticklabels():\n",
    "            label.set_visible(False)\n",
    "axs[0].bar(range(17), abs_avg_w0, color=get_sign_color(avg_w0), width=.9)\n",
    "axs[1].bar(range(17), abs_avg_w1, color=get_sign_color(avg_w1), width=.9)\n",
    "axs[2].bar(range(17), abs_avg_w2, color=get_sign_color(avg_w2), width=.9)\n",
    "axs[0].set_title(f\"Helix Neuron\")\n",
    "axs[1].set_title(f\"Coil Neuron\")\n",
    "axs[2].set_title(f\"Strand Neuron\")\n",
    "\n",
    "plt.tight_layout()\n",
    "fig.subplots_adjust(hspace=0.1, wspace=0)\n",
    "plt.savefig(f\"LinReg.weights.avg.pdf\", dpi=300)\n",
    "plt.show()"
   ]
  },
  {
   "cell_type": "code",
   "execution_count": 114,
   "id": "d1fce438-c79f-48fa-bcba-80e19f4ca9ba",
   "metadata": {},
   "outputs": [
    {
     "data": {
      "image/png": "[encoded data removed]",
      "text/plain": [
       "<Figure size 864x216 with 3 Axes>"
      ]
     },
     "metadata": {
      "needs_background": "light"
     },
     "output_type": "display_data"
    },
    {
     "data": {
      "image/png": "[encoded data removed]",
      "text/plain": [
       "<Figure size 864x216 with 3 Axes>"
      ]
     },
     "metadata": {
      "needs_background": "light"
     },
     "output_type": "display_data"
    }
   ],
   "source": [
    "import numpy as np\n",
    "\n",
    "k=0.5\n",
    "sharey=True\n",
    "\n",
    "LABELS = [\"-\"+str(x) for x in range(8,0,-1)]+[str(0)]+[str(x) for x in range(1,9,1)]\n",
    "w0,w1,w2 = weights.values[0], weights.values[1], weights.values[2]\n",
    "\n",
    "def get_sign_color(w0, pos=\"steelblue\", neg=\"steelblue\"):\n",
    "    return [neg if x<0 else pos for x in w0]\n",
    "\n",
    "\n",
    "fig, axs = plt.subplots(1,3, figsize=(12,3), sharey=sharey)\n",
    "for i,ax in enumerate(axs):\n",
    "    ax.yaxis.tick_right()\n",
    "    ax.set_xticks([x for x in range(17*20) if (x)%20==0])\n",
    "    ax.set_xticklabels(LABELS)\n",
    "    # ax.tick_params(axis='x', rotation=90)\n",
    "    if i == 2:\n",
    "        ax.yaxis.set_tick_params(labelright=True, labelleft=False)\n",
    "    else:\n",
    "        for label in ax.get_yticklabels():\n",
    "            label.set_visible(False)\n",
    "axs[0].bar(range(17*20), abs(w0)**k, color=get_sign_color(w0), width=.9)\n",
    "axs[1].bar(range(17*20), abs(w1)**k, color=get_sign_color(w1), width=.9)\n",
    "axs[2].bar(range(17*20), abs(w2)**k, color=get_sign_color(w2), width=.9)\n",
    "axs[0].set_title(f\"Helix Neuron\")\n",
    "axs[1].set_title(f\"Coil Neuron\")\n",
    "axs[2].set_title(f\"Strand Neuron\")\n",
    "\n",
    "plt.tight_layout()\n",
    "fig.subplots_adjust(hspace=0.1, wspace=0)\n",
    "# plt.savefig(f\"LinReg.weights.all.{k}.pdf\", dpi=300)\n",
    "plt.show()\n",
    "\n",
    "avg_w0 = np.reshape(w0, (17,20)).mean(1)\n",
    "avg_w1 = np.reshape(w1, (17,20)).mean(1)\n",
    "avg_w2 = np.reshape(w2, (17,20)).mean(1)\n",
    "\n",
    "abs_avg_w0 = np.reshape(abs(w0), (17,20)).mean(1)\n",
    "abs_avg_w1 = np.reshape(abs(w1), (17,20)).mean(1)\n",
    "abs_avg_w2 = np.reshape(abs(w2), (17,20)).mean(1)\n",
    "\n",
    "fig, axs = plt.subplots(1,3, figsize=(12,3), sharey=sharey)\n",
    "for i,ax in enumerate(axs):\n",
    "    ax.yaxis.tick_right()\n",
    "    ax.set_xticks(range(len(abs_avg_w0)))\n",
    "    ax.set_xticklabels(LABELS)\n",
    "    if i == 2:\n",
    "        ax.yaxis.set_tick_params(labelright=True, labelleft=False)\n",
    "    else:\n",
    "        for label in ax.get_yticklabels():\n",
    "            label.set_visible(False)\n",
    "axs[0].bar(range(17), abs_avg_w0**k, color=get_sign_color(avg_w0), width=.9)\n",
    "axs[1].bar(range(17), abs_avg_w1**k, color=get_sign_color(avg_w1), width=.9)\n",
    "axs[2].bar(range(17), abs_avg_w2**k, color=get_sign_color(avg_w2), width=.9)\n",
    "axs[0].set_title(f\"Helix Neuron\")\n",
    "axs[1].set_title(f\"Coil Neuron\")\n",
    "axs[2].set_title(f\"Strand Neuron\")\n",
    "\n",
    "plt.tight_layout()\n",
    "fig.subplots_adjust(hspace=0.1, wspace=0)\n",
    "plt.savefig(f\"LinReg.weights.avg.{k}.pdf\", dpi=300)\n",
    "plt.show()"
   ]
  },
  {
   "cell_type": "code",
   "execution_count": 115,
   "id": "131637f7-3339-4c3e-8e3f-c98f4f8b1072",
   "metadata": {},
   "outputs": [],
   "source": [
    "k=.5\n",
    "DATA = (abs_avg_w0 + abs_avg_w1 + abs_avg_w2)/3\n",
    "DATA = DATA**k\n"
   ]
  },
  {
   "cell_type": "code",
   "execution_count": 118,
   "id": "c7742f98-d53a-4be7-b095-11d70aa1edc2",
   "metadata": {},
   "outputs": [
    {
     "data": {
      "image/png": "[encoded data removed]",
      "text/plain": [
       "<Figure size 324x216 with 1 Axes>"
      ]
     },
     "metadata": {
      "needs_background": "light"
     },
     "output_type": "display_data"
    }
   ],
   "source": [
    "import matplotlib.pyplot as plt\n",
    "\n",
    "\n",
    "\n",
    "LABELS = [\"-\"+str(x) for x in range(8,0,-1)]+[str(0)]+[str(x) for x in range(1,9,1)]\n",
    "\n",
    "fig, ax = plt.subplots(1,1, figsize=(4.5,3), sharey=True, sharex=True)\n",
    "# ax = axs[2]\n",
    "ax.yaxis.tick_right()\n",
    "ax.set_xticks(list(range(17)))\n",
    "ax.set_xticklabels(LABELS)\n",
    "ax.yaxis.set_tick_params(labelright=True, labelleft=False)\n",
    "\n",
    "ax.bar(range(17), DATA, width=.9, color=\"steelblue\")\n",
    "ax.set_title(\"Linear Regressor Average Feature Importances\")\n",
    "\n",
    "plt.tight_layout()\n",
    "fig.subplots_adjust(hspace=0.1, wspace=0)\n",
    "plt.savefig(f\"plots/LinReg.weights.overall_avg.{k}.pdf\", dpi=300)\n",
    "plt.show()"
   ]
  },
  {
   "cell_type": "code",
   "execution_count": 119,
   "id": "ab510320-a15e-4cff-9355-42e605d23aa2",
   "metadata": {},
   "outputs": [
    {
     "data": {
      "text/plain": [
       "[<matplotlib.lines.Line2D at 0x7f74b6fd4fd0>]"
      ]
     },
     "execution_count": 119,
     "metadata": {},
     "output_type": "execute_result"
    },
    {
     "data": {
      "image/png": "[encoded data removed]",
      "text/plain": [
       "<Figure size 432x288 with 1 Axes>"
      ]
     },
     "metadata": {
      "needs_background": "light"
     },
     "output_type": "display_data"
    }
   ],
   "source": [
    "weights = pd.read_csv(\"Linear_Regressor/coef3.out\", sep=\" \", header=None)\n",
    "weights = weights.drop(columns=[340])\n",
    "w0,w1,w2 = weights.values[0], weights.values[1], weights.values[2]\n",
    "abs_avg_w0 = np.reshape(abs(w0), (17,20)).mean(1)\n",
    "abs_avg_w1 = np.reshape(abs(w1), (17,20)).mean(1)\n",
    "abs_avg_w2 = np.reshape(abs(w2), (17,20)).mean(1)\n",
    "k=.5\n",
    "DATA = (abs_avg_w0 + abs_avg_w1 + abs_avg_w2)/3\n",
    "DATA = DATA**k\n",
    "plt.plot(DATA)"
   ]
  },
  {
   "cell_type": "code",
   "execution_count": null,
   "id": "3a09bf72-3b9b-4fbd-afba-2d177e1e3e5e",
   "metadata": {},
   "outputs": [],
   "source": []
  }
 ],
 "metadata": {
  "kernelspec": {
   "display_name": "bp_base",
   "language": "python",
   "name": "bp_base"
  },
  "language_info": {
   "codemirror_mode": {
    "name": "ipython",
    "version": 3
   },
   "file_extension": ".py",
   "mimetype": "text/x-python",
   "name": "python",
   "nbconvert_exporter": "python",
   "pygments_lexer": "ipython3",
   "version": "3.8.13"
  }
 },
 "nbformat": 4,
 "nbformat_minor": 5
}
